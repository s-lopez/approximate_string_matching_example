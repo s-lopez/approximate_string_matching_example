{
 "cells": [
  {
   "cell_type": "markdown",
   "id": "2b1e2335-1036-43d4-9cb4-f09fe6314edb",
   "metadata": {},
   "source": [
    "# Fuzzy matching demonstration\n",
    "This notebook quickly demonstrates a few possibilities to perform approximate string matching.\n",
    "\n",
    "We'll use rapidfuzz, a modern, MIT-licensed and well-maintained library for fuzzy matching"
   ]
  },
  {
   "cell_type": "code",
   "execution_count": 1,
   "id": "84481d14-b898-4dd5-8d46-ea465f2c105b",
   "metadata": {},
   "outputs": [],
   "source": [
    "import rapidfuzz"
   ]
  },
  {
   "cell_type": "markdown",
   "id": "43e54007-c68b-4d65-862a-605c58e62bd5",
   "metadata": {},
   "source": [
    "### Define a sample list of candidate values to query"
   ]
  },
  {
   "cell_type": "code",
   "execution_count": 2,
   "id": "71a5ee80-f2a8-442d-b4df-61444a92670c",
   "metadata": {},
   "outputs": [],
   "source": [
    "candidates = [\n",
    "    \"Abraham Lincoln\",\n",
    "    \"John Smith Doe\",\n",
    "    \"John Sullivan Doe\",\n",
    "    \"Jack Sparrow\",\n",
    "    \"Jack Spartan Doe\",\n",
    "    \"Alberto Einstein\",\n",
    "    \"Alberto Zweistein\",\n",
    "    \"Zweistein Alberto\",\n",
    "    \"wr0ng n4m3\",\n",
    "    \"some_string\"\n",
    "]"
   ]
  },
  {
   "cell_type": "markdown",
   "id": "d056a661-398a-4101-9346-49f61f8818e6",
   "metadata": {},
   "source": [
    "### Find matches for the inexact input \"John S Doe\""
   ]
  },
  {
   "cell_type": "code",
   "execution_count": 11,
   "id": "36d0e118-84fd-4c79-8dc7-94e1540b3e14",
   "metadata": {},
   "outputs": [
    {
     "data": {
      "text/plain": [
       "[('John Smith Doe', 85.5, 1),\n",
       " ('John Sullivan Doe', 85.5, 2),\n",
       " ('Jack Spartan Doe', 51.42857142857142, 4)]"
      ]
     },
     "execution_count": 11,
     "metadata": {},
     "output_type": "execute_result"
    }
   ],
   "source": [
    "# Find the top 3 matches. \n",
    "# Print value, match score and index for each match\n",
    "rapidfuzz.process.extract(\"John S Do\", candidates, limit=3)"
   ]
  },
  {
   "cell_type": "code",
   "execution_count": 7,
   "id": "037459d8-40c5-4b75-93ef-16320a4b7df4",
   "metadata": {},
   "outputs": [
    {
     "data": {
      "text/plain": [
       "[('John Smith Doe', 85.5, 1), ('John Sullivan Doe', 85.5, 2)]"
      ]
     },
     "execution_count": 7,
     "metadata": {},
     "output_type": "execute_result"
    }
   ],
   "source": [
    "# Find matches with a score above 75%\n",
    "rapidfuzz.process.extract(\"John S Do\", candidates, score_cutoff=75)"
   ]
  },
  {
   "cell_type": "markdown",
   "id": "b007e220-b5d7-48bc-a24c-92f259a6cff4",
   "metadata": {
    "tags": []
   },
   "source": [
    "### Find matches for the inexact input \"Albert Zweistein\""
   ]
  },
  {
   "cell_type": "code",
   "execution_count": 12,
   "id": "8ae3859b-95de-4ddb-9bed-2adca90bd0d5",
   "metadata": {},
   "outputs": [
    {
     "data": {
      "text/plain": [
       "[('Alberto Zweistein', 96.96969696969697, 6),\n",
       " ('Zweistein Alberto', 92.12121212121211, 7)]"
      ]
     },
     "execution_count": 12,
     "metadata": {},
     "output_type": "execute_result"
    }
   ],
   "source": [
    "# Find matches with a score above 90%\n",
    "rapidfuzz.process.extract(\"Albert Zweistein\", candidates, score_cutoff=90)"
   ]
  },
  {
   "cell_type": "markdown",
   "id": "60f18323-e71e-4135-9788-a56684b57d2c",
   "metadata": {},
   "source": [
    "### Find matches for the inexact input \"Albert Zweistein\" with the Levenshtein metric\n",
    "Note that we could define any custom metric instead"
   ]
  },
  {
   "cell_type": "code",
   "execution_count": 23,
   "id": "80e03484-8779-4dc4-9306-48059bfd667d",
   "metadata": {},
   "outputs": [
    {
     "data": {
      "text/plain": [
       "[('Alberto Zweistein', 0.058823529411764705, 6), ('Alberto Einstein', 0.25, 5)]"
      ]
     },
     "execution_count": 23,
     "metadata": {},
     "output_type": "execute_result"
    }
   ],
   "source": [
    "rapidfuzz.process.extract(\"Albert Zweistein\", candidates, limit=2, scorer=rapidfuzz.string_metric.Levenshtein.normalized_distance)"
   ]
  }
 ],
 "metadata": {
  "kernelspec": {
   "display_name": "Python 3 (ipykernel)",
   "language": "python",
   "name": "python3"
  },
  "language_info": {
   "codemirror_mode": {
    "name": "ipython",
    "version": 3
   },
   "file_extension": ".py",
   "mimetype": "text/x-python",
   "name": "python",
   "nbconvert_exporter": "python",
   "pygments_lexer": "ipython3",
   "version": "3.10.8"
  }
 },
 "nbformat": 4,
 "nbformat_minor": 5
}
